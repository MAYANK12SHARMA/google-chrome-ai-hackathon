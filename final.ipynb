{
 "cells": [
  {
   "cell_type": "code",
   "execution_count": 4,
   "metadata": {},
   "outputs": [],
   "source": [
    "import requests\n",
    "from bs4 import BeautifulSoup\n",
    "from markdownify import markdownify as md\n",
    "\n",
    "# # Function to fetch HTML from a URL\n",
    "# def fetch_html_from_url(url):\n",
    "#     \"\"\"\n",
    "#     Fetch the HTML content of a webpage from a given URL.\n",
    "    \n",
    "#     :param url: The URL of the webpage to fetch.\n",
    "#     :return: The raw HTML content as a string.\n",
    "#     \"\"\"\n",
    "#     response = requests.get(url)\n",
    "#     response.raise_for_status()  # Raise an error for HTTP issues\n",
    "#     return response.text\n",
    "\n",
    "def fetch_html_from_url(url):\n",
    "    headers = {\n",
    "        \"User-Agent\": \"Mozilla/5.0 (Windows NT 10.0; Win64; x64) AppleWebKit/537.36 (KHTML, like Gecko) Chrome/91.0.4472.124 Safari/537.36\"\n",
    "    }\n",
    "    try:\n",
    "        response = requests.get(url, headers=headers)\n",
    "        response.raise_for_status()  # Raise an exception for HTTP errors\n",
    "        return response.text\n",
    "    except requests.exceptions.HTTPError as err:\n",
    "        print(f\"HTTP error occurred: {err}\")\n",
    "    except Exception as err:\n",
    "        print(f\"Other error occurred: {err}\")\n",
    "\n",
    "\n",
    "\n",
    "# Function to extract specific HTML tags and clean up\n",
    "def extract_clean_html(html_content, tags_to_extract=None, minimal_css=True):\n",
    "    soup = BeautifulSoup(html_content, 'html.parser')\n",
    "    if tags_to_extract is None:\n",
    "        tags_to_extract = [tag.name for tag in soup.find_all()]\n",
    "    extracted_content = []\n",
    "    for tag in tags_to_extract:\n",
    "        for element in soup.find_all(tag):\n",
    "            if minimal_css:\n",
    "                for attr in ['style', 'class', 'id']:\n",
    "                    if attr in element.attrs:\n",
    "                        del element.attrs[attr]\n",
    "            extracted_content.append(element)\n",
    "    return \"\\n\".join(str(tag) for tag in extracted_content)\n",
    "\n",
    "# Function to convert HTML to Markdown and save to a file\n",
    "def convert_html_to_markdown(html_content, output_file=\"output.md\"):\n",
    "    markdown_content = md(html_content, strip=['a'])\n",
    "    with open(output_file, \"w\", encoding=\"utf-8\") as file:\n",
    "        file.write(markdown_content)\n",
    "    return markdown_content\n",
    "\n",
    "# Complete workflow for both file and URL\n",
    "def process_html(input_source, is_url=False, output_file=\"output.md\", tags_to_extract=None):\n",
    "    \"\"\"\n",
    "    Process HTML content from a file or URL, extract relevant tags, \n",
    "    convert to Markdown, and save it.\n",
    "    \n",
    "    :param input_source: File path or URL of the HTML content.\n",
    "    :param is_url: Set to True if input_source is a URL.\n",
    "    :param output_file: Name of the output Markdown file.\n",
    "    :param tags_to_extract: List of tags to extract (optional).\n",
    "    \"\"\"\n",
    "    # Step 1: Fetch HTML content\n",
    "    if is_url:\n",
    "        raw_html = fetch_html_from_url(input_source)\n",
    "    else:\n",
    "        with open(input_source, \"r\", encoding=\"utf-8\") as file:\n",
    "            raw_html = file.read()\n",
    "\n",
    "    # Step 2: Extract and clean HTML\n",
    "    cleaned_html = extract_clean_html(raw_html, tags_to_extract, minimal_css=True)\n",
    "\n",
    "    # Step 3: Convert to Markdown and save\n",
    "    markdown_output = convert_html_to_markdown(cleaned_html, output_file=output_file)\n",
    "    print(f\"Markdown file generated successfully! Check '{output_file}'\")\n",
    "    return markdown_output\n"
   ]
  },
  {
   "cell_type": "code",
   "execution_count": null,
   "metadata": {},
   "outputs": [
    {
     "name": "stdout",
     "output_type": "stream",
     "text": [
      "Markdown file generated successfully! Check 'authenti.md'\n"
     ]
    },
    {
     "ename": "",
     "evalue": "",
     "output_type": "error",
     "traceback": [
      "\u001b[1;31mThe Kernel crashed while executing code in the current cell or a previous cell. \n",
      "\u001b[1;31mPlease review the code in the cell(s) to identify a possible cause of the failure. \n",
      "\u001b[1;31mClick <a href='https://aka.ms/vscodeJupyterKernelCrash'>here</a> for more info. \n",
      "\u001b[1;31mView Jupyter <a href='command:jupyter.viewOutput'>log</a> for further details."
     ]
    }
   ],
   "source": [
    "\n",
    "# Example usage\n",
    "if __name__ == \"__main__\":\n",
    "    # Use a file\n",
    "    # process_html(\"mayank.txt\", is_url=False, output_file=\"mayank_output.md\", tags_to_extract=[\"article\", \"p\", \"h1\"])\n",
    "\n",
    "    # process_html(\"https://nextjs.org/docs\", is_url=True, output_file=\"nextjs_docs.md\", tags_to_extract=[\"article\", \"p\", \"h1\"])\n",
    "    # process_html(\"https://nextjs.org/docs/app/building-your-application/configuring/environment-variables\", is_url=True, output_file=\"nextjs_docs1.md\", tags_to_extract=[\"article\", \"p\", \"h1\"])\n",
    "    # process_html(\"https://medium.com/nybles/inside-my-google-step-internship-fd78d1cdcf55\", is_url=True, output_file=\"medium.md\", tags_to_extract=[\"article\", \"p\", \"h1\"])\n",
    "    # process_html(\"https://python.langchain.com/docs/concepts/chat_models/\", is_url=True, output_file=\"langchain.md\", tags_to_extract=[\"article\", \"p\", \"h1\"])\n",
    "    process_html(\"https://nextjs.org/docs/app/building-your-application/authentication\", is_url=True, output_file=\"authenti.md\", tags_to_extract=[\"article\", \"p\", \"h1\"])\n"
   ]
  }
 ],
 "metadata": {
  "kernelspec": {
   "display_name": "Python 3",
   "language": "python",
   "name": "python3"
  },
  "language_info": {
   "codemirror_mode": {
    "name": "ipython",
    "version": 3
   },
   "file_extension": ".py",
   "mimetype": "text/x-python",
   "name": "python",
   "nbconvert_exporter": "python",
   "pygments_lexer": "ipython3",
   "version": "3.12.1"
  }
 },
 "nbformat": 4,
 "nbformat_minor": 2
}
